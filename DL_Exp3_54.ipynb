{
  "cells": [
    {
      "cell_type": "code",
      "execution_count": null,
      "id": "7d78b116",
      "metadata": {
        "id": "7d78b116"
      },
      "outputs": [],
      "source": [
        "from sklearn.datasets import load_diabetes\n",
        "\n",
        "import numpy as np\n",
        "from sklearn.linear_model import LinearRegression\n",
        "from sklearn.metrics import r2_score\n",
        "from sklearn.model_selection import train_test_split"
      ]
    },
    {
      "cell_type": "code",
      "execution_count": null,
      "id": "6b46625d",
      "metadata": {
        "id": "6b46625d"
      },
      "outputs": [],
      "source": [
        "X,y = load_diabetes(return_X_y=True)"
      ]
    },
    {
      "cell_type": "code",
      "execution_count": null,
      "id": "c2ad6cd1",
      "metadata": {
        "colab": {
          "base_uri": "https://localhost:8080/"
        },
        "id": "c2ad6cd1",
        "outputId": "5ddf4ed0-3e7c-40c6-c0c6-933eaef535ac"
      },
      "outputs": [
        {
          "output_type": "stream",
          "name": "stdout",
          "text": [
            "(442, 10)\n",
            "(442,)\n"
          ]
        }
      ],
      "source": [
        "print(X.shape)\n",
        "print(y.shape)"
      ]
    },
    {
      "cell_type": "code",
      "execution_count": null,
      "id": "a70d2eb2",
      "metadata": {
        "id": "a70d2eb2"
      },
      "outputs": [],
      "source": [
        "X_train,X_test,y_train,y_test = train_test_split(X,y,test_size=0.2,random_state=2)"
      ]
    },
    {
      "cell_type": "code",
      "execution_count": null,
      "id": "d8b0bb30",
      "metadata": {
        "colab": {
          "base_uri": "https://localhost:8080/"
        },
        "id": "d8b0bb30",
        "outputId": "f4b03b1e-e4f6-49f0-c14d-a8caa3d56175"
      },
      "outputs": [
        {
          "output_type": "execute_result",
          "data": {
            "text/plain": [
              "0.4399338661568968"
            ]
          },
          "metadata": {},
          "execution_count": 7
        }
      ],
      "source": [
        "y_pred = reg.predict(X_test)\n",
        "r2_score(y_test,y_pred)"
      ]
    },
    {
      "cell_type": "code",
      "execution_count": null,
      "id": "b5f8dc27",
      "metadata": {
        "colab": {
          "base_uri": "https://localhost:8080/"
        },
        "id": "b5f8dc27",
        "outputId": "26e5b6e1-0314-4ccb-b624-24b5ca1aae1d"
      },
      "outputs": [
        {
          "output_type": "execute_result",
          "data": {
            "text/plain": [
              "(353, 10)"
            ]
          },
          "metadata": {},
          "execution_count": 8
        }
      ],
      "source": [
        "X_train.shape"
      ]
    },
    {
      "cell_type": "code",
      "execution_count": null,
      "id": "777721d5",
      "metadata": {
        "id": "777721d5"
      },
      "outputs": [],
      "source": [
        "class GDRegressor:\n",
        "\n",
        "    def __init__(self,learning_rate=0.01,epochs=100):\n",
        "\n",
        "        self.coef_ = None\n",
        "        self.intercept_ = None\n",
        "        self.lr = learning_rate\n",
        "        self.epochs =  epochs\n",
        "\n",
        "    def fit(self,X_train,y_train):\n",
        "        # init your coefs\n",
        "        self.intercept_ = 0\n",
        "        self.coef_ = np.ones(X_train.shape[1])\n",
        "\n",
        "        for i in range(self.epochs):\n",
        "            # update all the coef and the intercept\n",
        "            #vectorization\n",
        "            y_hat = np.dot(X_train,self.coef_) + self.intercept_\n",
        "            #print(\"Shape of y_hat\",y_hat.shape)\n",
        "            intercept_der = -2 * np.mean(y_train - y_hat)\n",
        "            self.intercept_ = self.intercept_ - (self.lr * intercept_der)\n",
        "\n",
        "            coef_der = -2 * np.dot((y_train - y_hat),X_train)/X_train.shape[0]\n",
        "            self.coef_ = self.coef_ - (self.lr * coef_der)\n",
        "\n",
        "        print(self.intercept_,self.coef_)\n",
        "\n",
        "    def predict(self,X_test):\n",
        "        return np.dot(X_test,self.coef_) + self.intercept_"
      ]
    },
    {
      "cell_type": "code",
      "execution_count": null,
      "id": "4ecc1e6f",
      "metadata": {
        "id": "4ecc1e6f"
      },
      "outputs": [],
      "source": [
        "gdr = GDRegressor(epochs=1000,learning_rate=0.5)"
      ]
    },
    {
      "cell_type": "code",
      "execution_count": null,
      "id": "e7e6aec9",
      "metadata": {
        "colab": {
          "base_uri": "https://localhost:8080/"
        },
        "id": "e7e6aec9",
        "outputId": "cd303a01-b863-4653-e00b-27493cc43349"
      },
      "outputs": [
        {
          "output_type": "stream",
          "name": "stdout",
          "text": [
            "152.01351687661833 [  14.38990585 -173.7235727   491.54898524  323.91524824  -39.32648042\n",
            " -116.01061213 -194.04077415  103.38135565  451.63448787   97.57218278]\n"
          ]
        }
      ],
      "source": [
        "gdr.fit(X_train,y_train)"
      ]
    },
    {
      "cell_type": "code",
      "execution_count": null,
      "id": "8e5e4410",
      "metadata": {
        "id": "8e5e4410"
      },
      "outputs": [],
      "source": [
        "y_pred = gdr.predict(X_test)"
      ]
    },
    {
      "cell_type": "code",
      "execution_count": null,
      "id": "84f66db7",
      "metadata": {
        "colab": {
          "base_uri": "https://localhost:8080/"
        },
        "id": "84f66db7",
        "outputId": "f5b32124-3a15-488b-e016-ffd4005c2564"
      },
      "outputs": [
        {
          "output_type": "execute_result",
          "data": {
            "text/plain": [
              "0.4534503034722803"
            ]
          },
          "metadata": {},
          "execution_count": 13
        }
      ],
      "source": [
        "r2_score(y_test,y_pred)"
      ]
    },
    {
      "cell_type": "code",
      "source": [
        "#pytorch"
      ],
      "metadata": {
        "id": "T59bmMHfwoEG"
      },
      "id": "T59bmMHfwoEG",
      "execution_count": 2,
      "outputs": []
    },
    {
      "cell_type": "code",
      "source": [
        "import torch\n",
        "import torch.nn as nn\n",
        "import torch.optim as optim\n",
        "from sklearn.datasets import make_regression\n",
        "\n",
        "X, Y = make_regression(n_samples=1000, n_features=10, noise=0.1)\n",
        "X = torch.tensor(X, dtype=torch.float32)\n",
        "Y = torch.tensor(Y, dtype=torch.float32).view(-1, 1)\n"
      ],
      "metadata": {
        "id": "_47GCS1RDFjL"
      },
      "id": "_47GCS1RDFjL",
      "execution_count": 3,
      "outputs": []
    },
    {
      "cell_type": "code",
      "source": [
        "class LinearRegression(nn.Module):\n",
        "    def __init__(self):\n",
        "        super(LinearRegression, self).__init__()\n",
        "        self.linear = nn.Linear(10, 1)\n",
        "\n",
        "    def forward(self, x):\n",
        "        return self.linear(x)\n",
        "\n",
        "model = LinearRegression()\n"
      ],
      "metadata": {
        "id": "WK8Mg5RzDIva"
      },
      "id": "WK8Mg5RzDIva",
      "execution_count": 4,
      "outputs": []
    },
    {
      "cell_type": "code",
      "source": [
        "criterion = nn.MSELoss()\n",
        "optimizer = optim.SGD(model.parameters(), lr=0.01)\n"
      ],
      "metadata": {
        "id": "WyrX7jdhDMGB"
      },
      "id": "WyrX7jdhDMGB",
      "execution_count": 5,
      "outputs": []
    },
    {
      "cell_type": "code",
      "source": [
        "epochs = 100\n",
        "batch_size = 32\n",
        "dataset = torch.utils.data.TensorDataset(X, Y)\n",
        "dataloader = torch.utils.data.DataLoader(dataset, batch_size=batch_size, shuffle=True)\n",
        "\n",
        "for epoch in range(epochs):\n",
        "    for X_batch, Y_batch in dataloader:\n",
        "        optimizer.zero_grad()\n",
        "        Y_hat = model(X_batch)\n",
        "        loss = criterion(Y_hat, Y_batch)\n",
        "        loss.backward()\n",
        "        optimizer.step()\n",
        "\n",
        "    print(f'Epoch {epoch + 1}/{epochs}, Loss: {loss.item()}')\n"
      ],
      "metadata": {
        "colab": {
          "base_uri": "https://localhost:8080/"
        },
        "id": "9DBNV95qDK_a",
        "outputId": "6a9d97c2-53c1-4bf0-c146-59eefc2f6efb"
      },
      "id": "9DBNV95qDK_a",
      "execution_count": 6,
      "outputs": [
        {
          "output_type": "stream",
          "name": "stdout",
          "text": [
            "Epoch 1/100, Loss: 8209.7333984375\n",
            "Epoch 2/100, Loss: 1177.898681640625\n",
            "Epoch 3/100, Loss: 1244.6114501953125\n",
            "Epoch 4/100, Loss: 343.111572265625\n",
            "Epoch 5/100, Loss: 62.30388641357422\n",
            "Epoch 6/100, Loss: 19.484207153320312\n",
            "Epoch 7/100, Loss: 2.0368118286132812\n",
            "Epoch 8/100, Loss: 2.824958086013794\n",
            "Epoch 9/100, Loss: 0.36001044511795044\n",
            "Epoch 10/100, Loss: 0.08544211089611053\n",
            "Epoch 11/100, Loss: 0.003189357230439782\n",
            "Epoch 12/100, Loss: 0.008683312684297562\n",
            "Epoch 13/100, Loss: 0.023709654808044434\n",
            "Epoch 14/100, Loss: 0.011371638625860214\n",
            "Epoch 15/100, Loss: 0.014813290908932686\n",
            "Epoch 16/100, Loss: 0.006679846905171871\n",
            "Epoch 17/100, Loss: 0.0035542859695851803\n",
            "Epoch 18/100, Loss: 0.008592076599597931\n",
            "Epoch 19/100, Loss: 0.009628179483115673\n",
            "Epoch 20/100, Loss: 0.009636559523642063\n",
            "Epoch 21/100, Loss: 0.01751493103802204\n",
            "Epoch 22/100, Loss: 0.009156126528978348\n",
            "Epoch 23/100, Loss: 0.0036688093096017838\n",
            "Epoch 24/100, Loss: 0.005808948073536158\n",
            "Epoch 25/100, Loss: 0.018250029534101486\n",
            "Epoch 26/100, Loss: 0.008692396804690361\n",
            "Epoch 27/100, Loss: 0.011319399811327457\n",
            "Epoch 28/100, Loss: 0.005841601174324751\n",
            "Epoch 29/100, Loss: 0.011060267686843872\n",
            "Epoch 30/100, Loss: 0.012406234629452229\n",
            "Epoch 31/100, Loss: 0.0060660443268716335\n",
            "Epoch 32/100, Loss: 0.0036172429099678993\n",
            "Epoch 33/100, Loss: 0.017578456550836563\n",
            "Epoch 34/100, Loss: 0.007144903298467398\n",
            "Epoch 35/100, Loss: 0.0030755200423300266\n",
            "Epoch 36/100, Loss: 0.006146647036075592\n",
            "Epoch 37/100, Loss: 0.004099708050489426\n",
            "Epoch 38/100, Loss: 0.01728660985827446\n",
            "Epoch 39/100, Loss: 0.009067116305232048\n",
            "Epoch 40/100, Loss: 0.013477487489581108\n",
            "Epoch 41/100, Loss: 0.005578446667641401\n",
            "Epoch 42/100, Loss: 0.010455423966050148\n",
            "Epoch 43/100, Loss: 0.009732726030051708\n",
            "Epoch 44/100, Loss: 0.01538490317761898\n",
            "Epoch 45/100, Loss: 0.009557945653796196\n",
            "Epoch 46/100, Loss: 0.01581314206123352\n",
            "Epoch 47/100, Loss: 0.009600874036550522\n",
            "Epoch 48/100, Loss: 0.00841076485812664\n",
            "Epoch 49/100, Loss: 0.013873497024178505\n",
            "Epoch 50/100, Loss: 0.007470297627151012\n",
            "Epoch 51/100, Loss: 0.004443182144314051\n",
            "Epoch 52/100, Loss: 0.008302428759634495\n",
            "Epoch 53/100, Loss: 0.00697711668908596\n",
            "Epoch 54/100, Loss: 0.008864128962159157\n",
            "Epoch 55/100, Loss: 0.020355388522148132\n",
            "Epoch 56/100, Loss: 0.007549107540398836\n",
            "Epoch 57/100, Loss: 0.03343275189399719\n",
            "Epoch 58/100, Loss: 0.010225070640444756\n",
            "Epoch 59/100, Loss: 0.0036011545453220606\n",
            "Epoch 60/100, Loss: 0.008505738340318203\n",
            "Epoch 61/100, Loss: 0.010956917889416218\n",
            "Epoch 62/100, Loss: 0.00831867940723896\n",
            "Epoch 63/100, Loss: 0.004580851178616285\n",
            "Epoch 64/100, Loss: 0.005393061321228743\n",
            "Epoch 65/100, Loss: 0.01055013108998537\n",
            "Epoch 66/100, Loss: 0.003390638390555978\n",
            "Epoch 67/100, Loss: 0.005697296466678381\n",
            "Epoch 68/100, Loss: 0.005889188032597303\n",
            "Epoch 69/100, Loss: 0.0033363038673996925\n",
            "Epoch 70/100, Loss: 0.006253235973417759\n",
            "Epoch 71/100, Loss: 0.01870078220963478\n",
            "Epoch 72/100, Loss: 0.004784617573022842\n",
            "Epoch 73/100, Loss: 0.004050771240144968\n",
            "Epoch 74/100, Loss: 0.006143856793642044\n",
            "Epoch 75/100, Loss: 0.01858457364141941\n",
            "Epoch 76/100, Loss: 0.012175594456493855\n",
            "Epoch 77/100, Loss: 0.011454717256128788\n",
            "Epoch 78/100, Loss: 0.011153831146657467\n",
            "Epoch 79/100, Loss: 0.008858071640133858\n",
            "Epoch 80/100, Loss: 0.00623004324734211\n",
            "Epoch 81/100, Loss: 0.0061002736911177635\n",
            "Epoch 82/100, Loss: 0.006158630363643169\n",
            "Epoch 83/100, Loss: 0.01038334984332323\n",
            "Epoch 84/100, Loss: 0.012828619219362736\n",
            "Epoch 85/100, Loss: 0.01275482214987278\n",
            "Epoch 86/100, Loss: 0.005904021672904491\n",
            "Epoch 87/100, Loss: 0.01768803782761097\n",
            "Epoch 88/100, Loss: 0.020970992743968964\n",
            "Epoch 89/100, Loss: 0.0172775499522686\n",
            "Epoch 90/100, Loss: 0.007544385269284248\n",
            "Epoch 91/100, Loss: 0.02104930952191353\n",
            "Epoch 92/100, Loss: 0.006681491620838642\n",
            "Epoch 93/100, Loss: 0.004797512199729681\n",
            "Epoch 94/100, Loss: 0.0046121845953166485\n",
            "Epoch 95/100, Loss: 0.004214385990053415\n",
            "Epoch 96/100, Loss: 0.022352080792188644\n",
            "Epoch 97/100, Loss: 0.005797234363853931\n",
            "Epoch 98/100, Loss: 0.011993171647191048\n",
            "Epoch 99/100, Loss: 0.0038544952403753996\n",
            "Epoch 100/100, Loss: 0.00501913670450449\n"
          ]
        }
      ]
    },
    {
      "cell_type": "code",
      "source": [],
      "metadata": {
        "id": "dOcYNWUODOch"
      },
      "id": "dOcYNWUODOch",
      "execution_count": null,
      "outputs": []
    }
  ],
  "metadata": {
    "kernelspec": {
      "display_name": "Python 3",
      "language": "python",
      "name": "python3"
    },
    "language_info": {
      "codemirror_mode": {
        "name": "ipython",
        "version": 3
      },
      "file_extension": ".py",
      "mimetype": "text/x-python",
      "name": "python",
      "nbconvert_exporter": "python",
      "pygments_lexer": "ipython3",
      "version": "3.8.8"
    },
    "colab": {
      "provenance": []
    }
  },
  "nbformat": 4,
  "nbformat_minor": 5
}